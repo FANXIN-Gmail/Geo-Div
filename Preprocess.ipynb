{
 "cells": [
  {
   "cell_type": "code",
   "execution_count": 119,
   "metadata": {
    "executionInfo": {
     "elapsed": 2,
     "status": "ok",
     "timestamp": 1670843564022,
     "user": {
      "displayName": "ハンキン",
      "userId": "00591214312406006948"
     },
     "user_tz": -540
    },
    "id": "v8YaiAnJVlgp"
   },
   "outputs": [],
   "source": [
    "import collections\n",
    "import json\n",
    "import numpy as np"
   ]
  },
  {
   "cell_type": "code",
   "execution_count": 163,
   "metadata": {},
   "outputs": [
    {
     "name": "stdout",
     "output_type": "stream",
     "text": [
      "<class 'collections.defaultdict'>\n"
     ]
    }
   ],
   "source": [
    "location = collections.defaultdict()\n",
    "\n",
    "with open('./Tucson/Tucson_location.json', mode=\"r\") as f:\n",
    "\n",
    "    line = f.readline()\n",
    "    \n",
    "    while line:\n",
    "        \n",
    "        line = json.loads(line)\n",
    "        \n",
    "        location[line['poi_id']] = (line['latitude'], line['longitude'])\n",
    "        \n",
    "        line = f.readline()\n",
    "\n",
    "f.close()\n",
    "\n",
    "np.save(\"./Tucson/location.npy\", location, allow_pickle=True)\n",
    "\n",
    "XXX = np.load(\"./Tucson/location.npy\", allow_pickle=True).item()\n",
    "\n",
    "print(type(XXX))"
   ]
  },
  {
   "cell_type": "code",
   "execution_count": 121,
   "metadata": {
    "id": "klNQictQaxe-"
   },
   "outputs": [],
   "source": [
    "# user_dict = collections.defaultdict(set)\n",
    "# poi_dict = collections.defaultdict(set)\n",
    "\n",
    "# with open('./Tucson/Tucson.json', mode=\"r\") as f:\n",
    "\n",
    "#   line = f.readline()\n",
    "\n",
    "#   while line:\n",
    "\n",
    "#     line = json.loads(line)\n",
    "    \n",
    "#     user_dict[line['user_id']].add(line['business_id'])\n",
    "#     poi_dict[line['business_id']].add(line['user_id'])\n",
    "\n",
    "#     line = f.readline()\n",
    "\n",
    "# f.close()"
   ]
  },
  {
   "cell_type": "code",
   "execution_count": 122,
   "metadata": {
    "colab": {
     "base_uri": "https://localhost:8080/"
    },
    "executionInfo": {
     "elapsed": 204,
     "status": "ok",
     "timestamp": 1669812019796,
     "user": {
      "displayName": "ハンキン",
      "userId": "00591214312406006948"
     },
     "user_tz": -540
    },
    "id": "pLHH62_7a0gz",
    "outputId": "b6a062f4-9d4c-490e-eb56-c23736e6b040"
   },
   "outputs": [
    {
     "name": "stdout",
     "output_type": "stream",
     "text": [
      "103342\n",
      "8809\n"
     ]
    }
   ],
   "source": [
    "# print(len(user_dict))\n",
    "# print(len(poi_dict))"
   ]
  },
  {
   "cell_type": "code",
   "execution_count": 123,
   "metadata": {
    "id": "Fy7U83rBa3Cz"
   },
   "outputs": [],
   "source": [
    "# delete_user = []\n",
    "# delete_poi = []\n",
    "\n",
    "# for k,v in user_dict.items():\n",
    "#   if len(v) < 15:\n",
    "#     delete_user.append(k)\n",
    "\n",
    "# for k,v in poi_dict.items():\n",
    "#   if len(v) < 10:\n",
    "#     delete_poi.append(k)"
   ]
  },
  {
   "cell_type": "code",
   "execution_count": 124,
   "metadata": {
    "colab": {
     "base_uri": "https://localhost:8080/"
    },
    "executionInfo": {
     "elapsed": 2,
     "status": "ok",
     "timestamp": 1669812092665,
     "user": {
      "displayName": "ハンキン",
      "userId": "00591214312406006948"
     },
     "user_tz": -540
    },
    "id": "UK5uEqaMa8cc",
    "outputId": "ac8c827c-d2fc-4742-873b-8c9a28085fec"
   },
   "outputs": [
    {
     "name": "stdout",
     "output_type": "stream",
     "text": [
      "2419\n",
      "5147\n"
     ]
    }
   ],
   "source": [
    "# print(len(user_dict) - len(delete_user))\n",
    "# print(len(poi_dict) - len(delete_poi))"
   ]
  },
  {
   "cell_type": "code",
   "execution_count": 125,
   "metadata": {
    "colab": {
     "base_uri": "https://localhost:8080/"
    },
    "executionInfo": {
     "elapsed": 4,
     "status": "ok",
     "timestamp": 1668095570400,
     "user": {
      "displayName": "ハンキン",
      "userId": "00591214312406006948"
     },
     "user_tz": -540
    },
    "id": "9rxbk51WpBrK",
    "outputId": "c77d3d30-c6e2-44ec-b30c-b72b73951cf6"
   },
   "outputs": [
    {
     "name": "stdout",
     "output_type": "stream",
     "text": [
      "2419\n",
      "5147\n"
     ]
    }
   ],
   "source": [
    "# user_list = list(user_dict.keys())\n",
    "# user_map = list(set(user_list).difference(set(delete_user)))\n",
    "# print(len(user_map))\n",
    "\n",
    "# poi_list = list(poi_dict.keys())\n",
    "# poi_map = list(set(poi_list).difference(set(delete_poi)))\n",
    "# print(len(poi_map))"
   ]
  },
  {
   "cell_type": "code",
   "execution_count": 126,
   "metadata": {},
   "outputs": [],
   "source": [
    "# with open('./Tucson/Tucson.json', mode=\"r\") as ff:\n",
    "#     with open('./Tucson/Tucson_check.json', mode=\"w\") as f:\n",
    "        \n",
    "#         line = ff.readline()\n",
    "        \n",
    "#         while line:\n",
    "            \n",
    "#             line = json.loads(line)\n",
    "            \n",
    "#             if line['user_id'] in user_map and line['business_id'] in poi_map:\n",
    "            \n",
    "# #                 line['user_name'] = line['user_id']\n",
    "# #                 line['poi_name'] = line['business_id']\n",
    "# #                 line['user_id'] = user_map.index(line['user_id'])\n",
    "# #                 line['poi_id'] = poi_map.index(line['business_id'])\n",
    "                \n",
    "#                 line = json.dumps(line)\n",
    "#                 f.write(line + \"\\n\")\n",
    "                \n",
    "            \n",
    "#             line = ff.readline()\n",
    "\n",
    "#     f.close()\n",
    "# ff.close()"
   ]
  },
  {
   "cell_type": "code",
   "execution_count": 127,
   "metadata": {
    "id": "OnsHntF6ZBk3"
   },
   "outputs": [],
   "source": [
    "# All = []\n",
    "\n",
    "# xxx = set()\n",
    "# yyy = set()\n",
    "\n",
    "# with open('./Tucson/Tucson_check.json', mode=\"r\") as f:\n",
    "\n",
    "#   line = f.readline()\n",
    "\n",
    "#   while line:\n",
    "\n",
    "#     line = json.loads(line)\n",
    "    \n",
    "#     xxx.add(line['user_id'])\n",
    "#     yyy.add(line['business_id'])\n",
    "    \n",
    "#     All.append(line)\n",
    "\n",
    "#     line = f.readline()\n",
    "\n",
    "# f.close()\n",
    "\n",
    "# All = sorted(All, key=lambda x:x['date'])"
   ]
  },
  {
   "cell_type": "code",
   "execution_count": 128,
   "metadata": {
    "colab": {
     "base_uri": "https://localhost:8080/"
    },
    "executionInfo": {
     "elapsed": 3,
     "status": "ok",
     "timestamp": 1668095732242,
     "user": {
      "displayName": "ハンキン",
      "userId": "00591214312406006948"
     },
     "user_tz": -540
    },
    "id": "RnGdrSKf76RM",
    "outputId": "8cae075c-755a-45f1-e821-8ab5a48602cd"
   },
   "outputs": [
    {
     "name": "stdout",
     "output_type": "stream",
     "text": [
      "2419\n",
      "4964\n",
      "86870\n"
     ]
    }
   ],
   "source": [
    "# print(len(xxx))\n",
    "# print(len(yyy))\n",
    "# print(len(All))"
   ]
  },
  {
   "cell_type": "code",
   "execution_count": 129,
   "metadata": {
    "id": "6MDFNLqT-1iG"
   },
   "outputs": [],
   "source": [
    "# xxx = list(xxx)\n",
    "# yyy = list(yyy)\n",
    "\n",
    "# with open('./Tucson/Tucson_check.json', mode=\"w\") as f:\n",
    "\n",
    "#   for sample in All:\n",
    "\n",
    "#     temp = dict()\n",
    "    \n",
    "#     temp['user_name'] = sample['user_id']\n",
    "#     temp['user_id'] = xxx.index(sample['user_id'])\n",
    "#     temp['poi_name'] = sample['business_id']\n",
    "#     temp['poi_id'] = yyy.index(sample['business_id'])\n",
    "#     temp['date'] = sample['date']\n",
    "    \n",
    "#     temp = json.dumps(temp)\n",
    "#     f.write(temp + \"\\n\")\n",
    "\n",
    "# f.close()"
   ]
  },
  {
   "cell_type": "code",
   "execution_count": 164,
   "metadata": {
    "executionInfo": {
     "elapsed": 796,
     "status": "ok",
     "timestamp": 1670843619053,
     "user": {
      "displayName": "ハンキン",
      "userId": "00591214312406006948"
     },
     "user_tz": -540
    },
    "id": "nQb8tCxS9H80"
   },
   "outputs": [],
   "source": [
    "import time\n",
    "\n",
    "DataSet = collections.defaultdict(list)\n",
    "\n",
    "Map = collections.defaultdict()\n",
    "\n",
    "with open('./Tucson/Tucson_check.json', mode='r') as f:\n",
    "    with open(\"./Tucson/timestamp.txt\", mode=\"w\") as ff:\n",
    "    \n",
    "      line = f.readline()\n",
    "    \n",
    "      while line:\n",
    "\n",
    "        sample = json.loads(line)\n",
    "        \n",
    "        date = sample['date']\n",
    "        timeArray = time.strptime(date, \"%Y-%m-%d %H:%M:%S\")\n",
    "        timestamp = int(time.mktime(timeArray))\n",
    "\n",
    "        ff.write(str(sample['user_id']) + \" \" + str(sample['poi_id']) + \" \" +  str(timestamp) + \"\\n\")\n",
    "\n",
    "        DataSet[sample['user_id']].append(sample['poi_id'])\n",
    "\n",
    "        Map[sample['user_name']] = sample['user_id']\n",
    "#         Map[sample['poi_name']] = sample['poi_id']\n",
    "        \n",
    "        line = f.readline()\n",
    "        \n",
    "    ff.close()\n",
    "f.close()"
   ]
  },
  {
   "cell_type": "code",
   "execution_count": 159,
   "metadata": {},
   "outputs": [],
   "source": [
    "Category = list()\n",
    "\n",
    "with open('./yelp_academic_dataset_business.json', mode=\"rb\") as f:\n",
    "    \n",
    "    line = f.readline()\n",
    "    \n",
    "    while line:\n",
    "        \n",
    "        sample = json.loads(line)\n",
    "        poi_id = sample['business_id']\n",
    "        if poi_id in Map.keys():\n",
    "            Category += sample['categories'].split(\", \")\n",
    "\n",
    "        line = f.readline()\n",
    "\n",
    "f.close()\n",
    "\n",
    "Category = set(Category)\n",
    "category_Map = collections.Counter()\n",
    "\n",
    "for k,v in enumerate(Category):\n",
    "    category_Map[v] = k\n",
    "\n",
    "    \n",
    "with open('./yelp_academic_dataset_business.json', mode=\"rb\") as f:\n",
    "    with open(\"./Tucson/category.txt\", mode=\"w\") as ff:\n",
    "        \n",
    "        line = f.readline()\n",
    "        \n",
    "        while line:\n",
    "\n",
    "            sample = json.loads(line)\n",
    "            poi_id = sample['business_id']\n",
    "            if poi_id in Map.keys():\n",
    "                temp = str(Map[poi_id]) + \" \"\n",
    "                category = sample['categories'].split(\", \")\n",
    "                for i in category:\n",
    "                    temp += str(category_Map[i]) + \"\\n\"\n",
    "                    ff.write(temp)\n",
    "                    temp = str(Map[poi_id]) + \" \"\n",
    "            \n",
    "            line = f.readline()\n",
    "    \n",
    "    ff.close()\n",
    "f.close()"
   ]
  },
  {
   "cell_type": "code",
   "execution_count": 160,
   "metadata": {},
   "outputs": [],
   "source": [
    "with open('./yelp_academic_dataset_business.json', mode=\"rb\") as f:\n",
    "  with open(\"./Tucson/Tucson_location.json\", mode=\"w\") as ff:\n",
    "\n",
    "    line = f.readline()\n",
    "\n",
    "    while line:\n",
    "\n",
    "        sample = json.loads(line)\n",
    "\n",
    "        temp = dict()\n",
    "        poi_id = sample['business_id']\n",
    "        if poi_id in Map.keys():\n",
    "            \n",
    "            temp['poi_id'] = Map[sample['business_id']]\n",
    "            temp[\"latitude\"] = float(sample[\"latitude\"])\n",
    "            temp[\"longitude\"] = float(sample[\"longitude\"])\n",
    "            \n",
    "            temp = json.dumps(temp)\n",
    "            ff.write(temp + \"\\n\")\n",
    "\n",
    "        line = f.readline()\n",
    "\n",
    "  ff.close()\n",
    "f.close()"
   ]
  },
  {
   "cell_type": "code",
   "execution_count": 162,
   "metadata": {
    "scrolled": true
   },
   "outputs": [],
   "source": [
    "with open('./yelp_academic_dataset_user.json', mode=\"rb\") as f:\n",
    "  with open(\"./Tucson/social.txt\", mode=\"w\") as ff:\n",
    "\n",
    "    line = f.readline()\n",
    "\n",
    "    while line:\n",
    "        \n",
    "        sample = json.loads(line)\n",
    "    \n",
    "        user_id = sample['user_id']\n",
    "        \n",
    "        user_friends = sample['friends'].split(\", \")\n",
    "        \n",
    "        if user_id in Map.keys():\n",
    "            \n",
    "            temp = str(Map[user_id]) + \" \"\n",
    "            for friend in user_friends:\n",
    "                if friend in Map.keys():\n",
    "                    \n",
    "                    temp += str(Map[friend]) + \"\\n\"\n",
    "#                     print(temp)\n",
    "                    ff.write(temp)\n",
    "                    temp = str(Map[user_id]) + \" \"\n",
    "        \n",
    "        line = f.readline()\n",
    "\n",
    "  ff.close()\n",
    "f.close()"
   ]
  },
  {
   "cell_type": "code",
   "execution_count": 165,
   "metadata": {
    "executionInfo": {
     "elapsed": 351,
     "status": "ok",
     "timestamp": 1670844033998,
     "user": {
      "displayName": "ハンキン",
      "userId": "00591214312406006948"
     },
     "user_tz": -540
    },
    "id": "JxcxjMfOCa0d"
   },
   "outputs": [],
   "source": [
    "import numpy as np\n",
    "\n",
    "# for k,v in DataSet.items():\n",
    "\n",
    "#     print(k,v)\n",
    "#     break\n",
    "\n",
    "# for k,v in DataSet.items():\n",
    "    \n",
    "#     DataSet[k] = collections.Counter(v)\n",
    "\n",
    "# for k,v in DataSet.items():\n",
    "\n",
    "#     temp = []\n",
    "#     for p,n in v.items():\n",
    "#         temp.append((p,n))\n",
    "#     DataSet[k] = temp\n",
    "\n",
    "# for k,v in DataSet.items():\n",
    "#     print(k,v)\n",
    "#     break\n",
    "\n",
    "np.save(\"./Tucson/user_rating_set_all.npy\", DataSet, allow_pickle=True)"
   ]
  },
  {
   "cell_type": "code",
   "execution_count": 148,
   "metadata": {
    "id": "pqxACGwPAEzY"
   },
   "outputs": [],
   "source": [
    "trainSet = collections.defaultdict(list)\n",
    "testSet = collections.defaultdict(list)\n",
    "validSet = collections.defaultdict(list)\n",
    "\n",
    "\n",
    "for k,v in DataSet.items():\n",
    "  \n",
    "  l = len(v)\n",
    "\n",
    "  train = int(round(l*0.7))\n",
    "  test = int(round(l*0.1))\n",
    "  valid = int(round(l*0.2))\n",
    "\n",
    "  l_ = l - (train + test + valid)\n",
    "\n",
    "  if l_ == -1:\n",
    "    train = train - 1\n",
    "  if l_ == 1:\n",
    "    test = test + 1\n",
    "  \n",
    "  trainSet[k] = v[0:train]\n",
    "  testSet[k] = v[train:train+test]\n",
    "  validSet[k] = v[train+test:]\n",
    "\n",
    "for k,v in DataSet.items():\n",
    "\n",
    "  x = list(set(trainSet[k]) & set(testSet[k]))\n",
    "  y = list(set(trainSet[k]) & set(validSet[k]))\n",
    "\n",
    "  trainSet[k] = list(set(trainSet[k]).difference(set(x)).difference(set(y)))\n",
    "  testSet[k] = list(set(testSet[k]).difference(set(x)))\n",
    "  validSet[k] = list(set(validSet[k]).difference(set(y)))"
   ]
  },
  {
   "cell_type": "code",
   "execution_count": 149,
   "metadata": {
    "colab": {
     "base_uri": "https://localhost:8080/"
    },
    "executionInfo": {
     "elapsed": 482,
     "status": "ok",
     "timestamp": 1668858471939,
     "user": {
      "displayName": "ハンキン",
      "userId": "00591214312406006948"
     },
     "user_tz": -540
    },
    "id": "tFJynwVLs7P3",
    "outputId": "c18aef86-788d-48e1-acb8-ee185e45a230"
   },
   "outputs": [
    {
     "name": "stdout",
     "output_type": "stream",
     "text": [
      "[(3400, 1), (2719, 1), (2752, 1), (3333, 1), (4233, 1), (3389, 1), (3696, 1), (3191, 1), (2108, 1), (1418, 1), (139, 1), (1225, 1), (818, 1), (2690, 1), (3086, 1), (3472, 1), (2484, 1), (4852, 1), (2039, 1), (2336, 1), (78, 1), (2248, 1)]\n",
      "[(4860, 1), (2822, 1), (2204, 1)]\n",
      "[(2485, 1), (3933, 1), (4564, 1), (3386, 1), (2423, 1), (855, 1)]\n"
     ]
    }
   ],
   "source": [
    "print(trainSet[99])\n",
    "print(testSet[99])\n",
    "print(validSet[99])"
   ]
  },
  {
   "cell_type": "code",
   "execution_count": 137,
   "metadata": {
    "colab": {
     "base_uri": "https://localhost:8080/"
    },
    "executionInfo": {
     "elapsed": 314,
     "status": "ok",
     "timestamp": 1668858661565,
     "user": {
      "displayName": "ハンキン",
      "userId": "00591214312406006948"
     },
     "user_tz": -540
    },
    "id": "VDQohLOhxGbH",
    "outputId": "0c013337-e5f9-491a-fe06-6cffea5f7146"
   },
   "outputs": [
    {
     "name": "stdout",
     "output_type": "stream",
     "text": [
      "<class 'collections.defaultdict'>\n"
     ]
    }
   ],
   "source": [
    "# np.save(\"./Tucson/testList.npy\", testSet, allow_pickle=True)\n",
    "\n",
    "# XXX = np.load(\"./Tucson/testList.npy\", allow_pickle=True).item()\n",
    "\n",
    "# print(type(XXX))"
   ]
  },
  {
   "cell_type": "code",
   "execution_count": 157,
   "metadata": {},
   "outputs": [],
   "source": [
    "with open('./Tucson/new_test.txt', mode=\"w\") as f:\n",
    "\n",
    "    for k,v in testSet.items():\n",
    "        temp = str(k) + \" \"\n",
    "        for i in v:\n",
    "            temp += str(i[0]) + \" \" + str(i[1]) + \"\\n\"\n",
    "            f.write(temp)\n",
    "            temp = str(k) + \" \"\n",
    "\n",
    "f.close()"
   ]
  }
 ],
 "metadata": {
  "colab": {
   "authorship_tag": "ABX9TyNHKxB2bQgLvF6HoWTullU7",
   "machine_shape": "hm",
   "provenance": []
  },
  "kernelspec": {
   "display_name": "Python 3 (ipykernel)",
   "language": "python",
   "name": "python3"
  },
  "language_info": {
   "codemirror_mode": {
    "name": "ipython",
    "version": 3
   },
   "file_extension": ".py",
   "mimetype": "text/x-python",
   "name": "python",
   "nbconvert_exporter": "python",
   "pygments_lexer": "ipython3",
   "version": "3.8.10"
  }
 },
 "nbformat": 4,
 "nbformat_minor": 1
}
